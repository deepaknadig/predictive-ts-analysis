{
 "cells": [
  {
   "cell_type": "markdown",
   "metadata": {
    "collapsed": true
   },
   "source": [
    "#Exploratory Analysis"
   ]
  },
  {
   "cell_type": "code",
   "execution_count": 51,
   "metadata": {},
   "outputs": [],
   "source": [
    "# Required Imports\n",
    "import numpy as np\n",
    "import pandas as pd\n",
    "from pandas.plotting import autocorrelation_plot as acfplot\n",
    "import matplotlib.pyplot as plt\n",
    "import seaborn as sns\n",
    "\n",
    "import statsmodels.tsa.api as smt\n",
    "import statsmodels.api as sm\n",
    "\n",
    "import scipy.stats as scs\n",
    "\n",
    "\n",
    "%matplotlib inline"
   ]
  },
  {
   "cell_type": "code",
   "execution_count": 53,
   "metadata": {},
   "outputs": [],
   "source": [
    "# Commonly used methods\n",
    "\n",
    "def plot_acfs(y, lags=None, style='seaborn-whitegrid'):\n",
    "    if not isinstance(y, pd.Series):\n",
    "        y = pd.Series(y)\n",
    "    with plt.style.context(style):\n",
    "        layout = (4, 2)\n",
    "        \n",
    "        plt.figure(figsize=(12, 20))\n",
    "        # Plot the Time Series\n",
    "        ax1 = plt.subplot2grid(layout, (0,0), colspan=2)\n",
    "        ax1.set_title('Time Series Analysis Plots')\n",
    "        y.plot(ax=ax1)\n",
    "        \n",
    "        # Plot the Correlogram (ACF)\n",
    "        ax2 = plt.subplot2grid(layout, (1, 0))\n",
    "        smt.graphics.plot_acf(y, ax=ax2, lags=lags, alpha=0.05)\n",
    "        \n",
    "        # Plot the Correlogram (PACF)\n",
    "        ax3 = plt.subplot2grid(layout, (1, 1))\n",
    "        smt.graphics.plot_pacf(y, ax=ax3, lags=lags, alpha=0.05)\n",
    "                \n",
    "        # QQ Plot\n",
    "        ax3 = plt.subplot2grid(layout, (2, 0))\n",
    "        sm.qqplot(y, line='s', ax=ax3)\n",
    "        ax3.set_title('QQ Plot')\n",
    "        \n",
    "        # Probability Plot\n",
    "        ax4 = plt.subplot2grid(layout, (2, 1))\n",
    "        scs.probplot(y, sparams=(y.mean(), y.std()), plot=ax4)\n",
    "        \n",
    "        # Distribution Histogram\n",
    "        ax5 = plt.subplot2grid(layout, (3,0))\n",
    "        sns.distplot(y, ax=ax5)\n",
    "        \n",
    "        # ACF line plot with CIs\n",
    "        ax6 = plt.subplot2grid(layout,(3,1))\n",
    "        acfplot(y, ax=ax6)\n",
    "        ax6.set_title('ACF Plot')"
   ]
  },
  {
   "cell_type": "code",
   "execution_count": null,
   "metadata": {},
   "outputs": [],
   "source": []
  }
 ],
 "metadata": {
  "kernelspec": {
   "display_name": "Python 2",
   "language": "python",
   "name": "python2"
  },
  "language_info": {
   "codemirror_mode": {
    "name": "ipython",
    "version": 2
   },
   "file_extension": ".py",
   "mimetype": "text/x-python",
   "name": "python",
   "nbconvert_exporter": "python",
   "pygments_lexer": "ipython2",
   "version": "2.7.6"
  }
 },
 "nbformat": 4,
 "nbformat_minor": 0
}
